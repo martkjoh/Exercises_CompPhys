{
 "metadata": {
  "language_info": {
   "codemirror_mode": {
    "name": "ipython",
    "version": 3
   },
   "file_extension": ".py",
   "mimetype": "text/x-python",
   "name": "python",
   "nbconvert_exporter": "python",
   "pygments_lexer": "ipython3",
   "version": "3.8.5"
  },
  "orig_nbformat": 2,
  "kernelspec": {
   "name": "python385jvsc74a57bd031f2aee4e71d21fbe5cf8b01ff0e069b9275f58929596ceb00d14d90e3e16cd6",
   "display_name": "Python 3.8.5 64-bit"
  }
 },
 "nbformat": 4,
 "nbformat_minor": 2,
 "cells": [
  {
   "cell_type": "code",
   "execution_count": 1,
   "metadata": {},
   "outputs": [],
   "source": [
    "from utilities import *\n",
    "from SEIIaR_commute import get_test_SEIIaR_commute, prof1, prof2\n",
    "\n",
    "%load_ext line_profiler"
   ]
  },
  {
   "cell_type": "code",
   "execution_count": 2,
   "metadata": {},
   "outputs": [
    {
     "output_type": "stream",
     "name": "stderr",
     "text": [
      "100%|██████████| 10/10 [00:07<00:00,  1.28it/s]\n"
     ]
    },
    {
     "output_type": "stream",
     "text": [
      "Timer unit: 1e-06 s\n",
      "\n",
      "Total time: 7.84121 s\n",
      "File: /home/martin/repos/Exercises_CompPhys/exam/SEIIaR_commute.py\n",
      "Function: get_test_SEIIaR_commute at line 6\n",
      "\n",
      "Line #      Hits         Time  Per Hit   % Time  Line Contents\n",
      "==============================================================\n",
      "     6                                           def get_test_SEIIaR_commute():\n",
      "     7         1          3.0      3.0      0.0      args = (0.55, 1, 0.1, 0.6, 0.4, 3, 7)\n",
      "     8         3         44.0     14.7      0.0      N = np.array([\n",
      "     9         1          1.0      1.0      0.0          [100_000, 0],\n",
      "    10         1          1.0      1.0      0.0          [0, 1]\n",
      "    11         1          1.0      1.0      0.0      ], dtype=int)\n",
      "    12         3          9.0      3.0      0.0      E = np.array([\n",
      "    13         1          1.0      1.0      0.0          [25, 0],\n",
      "    14         1          1.0      1.0      0.0          [0, 0]\n",
      "    15         1          1.0      1.0      0.0      ], dtype=int)\n",
      "    16         1        679.0    679.0      0.0      Oh = np.zeros_like(N)\n",
      "    17         1        100.0    100.0      0.0      x0 = np.array([N-E, E, Oh, Oh, Oh], dtype=int)\n",
      "    18         1          1.0      1.0      0.0      T = 180; dt = 0.1\n",
      "    19         1          1.0      1.0      0.0      xs = []\n",
      "    20        11      35531.0   3230.1      0.5      for i in trange(10):\n",
      "    21        30    7804781.0 260159.4     99.5          xs.append(integrate(\n",
      "    22        10         15.0      1.5      0.0              SEIIaR_commute, x0, T, dt, args, step=stoch_commute_step, inf=False\n",
      "    23        10         33.0      3.3      0.0              )[:, :, 0, 0])\n",
      "    24         1          3.0      3.0      0.0      return xs, T, dt, args"
     ],
     "name": "stdout"
    }
   ],
   "source": [
    "%lprun -f get_test_SEIIaR_commute get_test_SEIIaR_commute()"
   ]
  },
  {
   "cell_type": "code",
   "execution_count": 3,
   "metadata": {},
   "outputs": [
    {
     "output_type": "stream",
     "name": "stderr",
     "text": [
      "100%|██████████| 10/10 [00:08<00:00,  1.24it/s]\n"
     ]
    },
    {
     "output_type": "stream",
     "text": [
      "Timer unit: 1e-06 s\n",
      "\n",
      "Total time: 7.93162 s\n",
      "File: /home/martin/repos/Exercises_CompPhys/exam/utilities.py\n",
      "Function: integrate at line 152\n",
      "\n",
      "Line #      Hits         Time  Per Hit   % Time  Line Contents\n",
      "==============================================================\n",
      "   152                                           def integrate(f, x0, T, dt, args, save=None, step=RK4step, inf=True):\n",
      "   153        10       2488.0    248.8      0.0      Nt = get_Nt(T, dt)\n",
      "   154        10         16.0      1.6      0.0      if inf: print(\"Integrates {} steps until time {}\".format(Nt-1, T))\n",
      "   155        10         11.0      1.1      0.0      if save is None: save = Nt\n",
      "   156        10        388.0     38.8      0.0      x = np.empty((save, *x0.shape), dtype=x0.dtype)\n",
      "   157        10        149.0     14.9      0.0      x[0] = x0\n",
      "   158        10         16.0      1.6      0.0      assert (Nt-1)%(save-1)==0\n",
      "   159        10         12.0      1.2      0.0      skip = (Nt-1)//(save-1)\n",
      "   160        10          7.0      0.7      0.0      if inf: r = trange(save-1)\n",
      "   161        10         26.0      2.6      0.0      else: r = range(save-1)\n",
      "   162     18010      16259.0      0.9      0.2      for i in r:\n",
      "   163     18000     159559.0      8.9      2.0          xi = np.copy(x[i]) # This was a pain to find...\n",
      "   164     36000      57922.0      1.6      0.7          for j in range(skip):\n",
      "   165     18000    7634533.0    424.1     96.3              xi += step(f, xi, i, dt, args)\n",
      "   166     18000      60227.0      3.3      0.8          x[i+1] = xi\n",
      "   167        10          9.0      0.9      0.0      return x"
     ],
     "name": "stdout"
    }
   ],
   "source": [
    "%lprun -f integrate get_test_SEIIaR_commute()"
   ]
  },
  {
   "cell_type": "code",
   "execution_count": 4,
   "metadata": {},
   "outputs": [
    {
     "output_type": "stream",
     "name": "stderr",
     "text": [
      "100%|██████████| 10/10 [00:05<00:00,  1.74it/s]\n"
     ]
    },
    {
     "output_type": "stream",
     "text": [
      "Timer unit: 1e-06 s\n",
      "\n",
      "Total time: 5.42965 s\n",
      "File: /home/martin/repos/Exercises_CompPhys/exam/utilities.py\n",
      "Function: stoch_commute_step at line 139\n",
      "\n",
      "Line #      Hits         Time  Per Hit   % Time  Line Contents\n",
      "==============================================================\n",
      "   139                                           def stoch_commute_step(f, x, i, dt, args):\n",
      "   140     18000      14181.0      0.8      0.3      t = i*dt\n",
      "   141     18000      15145.0      0.8      0.3      time = t - int(t)\n",
      "   142     18000       9254.0      0.5      0.2      day = time < 0.5\n",
      "   143     18000    5375681.0    298.6     99.0      dx = f(x, dt, day, *args)\n",
      "   144     18000      15392.0      0.9      0.3      return dx"
     ],
     "name": "stdout"
    }
   ],
   "source": [
    "%lprun -f stoch_commute_step get_test_SEIIaR_commute()"
   ]
  },
  {
   "cell_type": "code",
   "execution_count": 5,
   "metadata": {},
   "outputs": [
    {
     "output_type": "stream",
     "name": "stderr",
     "text": [
      "100%|██████████| 10/10 [00:08<00:00,  1.20it/s]\n"
     ]
    },
    {
     "output_type": "stream",
     "text": [
      "Timer unit: 1e-06 s\n",
      "\n",
      "Total time: 7.53376 s\n",
      "File: /home/martin/repos/Exercises_CompPhys/exam/utilities.py\n",
      "Function: SEIIaR_commute at line 49\n",
      "\n",
      "Line #      Hits         Time  Per Hit   % Time  Line Contents\n",
      "==============================================================\n",
      "    49                                           def SEIIaR_commute(x, dt, day, *args):\n",
      "    50     18000      22740.0      1.3      0.3      beta, rs, ra, fs, fa, tE, tI = args\n",
      "    51     18000      16772.0      0.9      0.2      if day:\n",
      "    52      9000     169779.0     18.9      2.3          x0 = np.sum(x, axis=1)\n",
      "    53      9000     119923.0     13.3      1.6          N = np.sum(x0, axis=0)\n",
      "    54      9000     182638.0     20.3      2.4          x0 = np.ones_like(x) * x0[:, np.newaxis, :]\n",
      "    55      9000     140262.0     15.6      1.9          N = np.ones_like(x[0]) * N[np.newaxis, :]\n",
      "    56                                           \n",
      "    57                                               else:\n",
      "    58      9000     164826.0     18.3      2.2          x0 = np.sum(x, axis=2)\n",
      "    59      9000     120108.0     13.3      1.6          N = np.sum(x0, axis=0)\n",
      "    60      9000     181566.0     20.2      2.4          x0 = np.ones_like(x) * x0[:, :, np.newaxis]\n",
      "    61      9000     139547.0     15.5      1.9          N = np.ones_like(x[0]) * N[:, np.newaxis]\n",
      "    62                                           \n",
      "    63     18000     284439.0     15.8      3.8      v = -dt*beta*(rs*x0[2]+ra*x0[3])/N\n",
      "    64     18000      96109.0      5.3      1.3      PSE = 1 - np.exp(v)\n",
      "    65     18000      82395.0      4.6      1.1      PEI = fs*(1 - np.exp(-dt/tE))\n",
      "    66     18000      59612.0      3.3      0.8      PEIa = fa*(1 - np.exp(-dt/tE))\n",
      "    67     18000      55613.0      3.1      0.7      PIR = 1 - np.exp(-dt/tI)\n",
      "    68                                           \n",
      "    69     18000     157611.0      8.8      2.1      DSE, DEI, DEIa, DIR, DIaR = np.zeros((5, *x[0].shape), dtype=int)\n",
      "    70     18000    1101001.0     61.2     14.6      DSE = B(x[0], PSE)\n",
      "    71     36000     603374.0     16.8      8.0      DEI, DEIa, _ = np.moveaxis(\n",
      "    72     18000    1023477.0     56.9     13.6          M(x[1], (PEI, PEIa, 1-PEI-PEIa)), -1, 0\n",
      "    73                                                   )\n",
      "    74     18000    1260201.0     70.0     16.7      DIR = B(x[2], PIR)\n",
      "    75     18000    1166819.0     64.8     15.5      DIaR = B(x[3], PIR)\n",
      "    76                                           \n",
      "    77     18000     384947.0     21.4      5.1      return np.array([-DSE, DSE - DEI - DEIa, DEI - DIR, DEIa - DIaR, DIR + DIaR])"
     ],
     "name": "stdout"
    }
   ],
   "source": [
    "lprun -f SEIIaR_commute get_test_SEIIaR_commute()"
   ]
  },
  {
   "cell_type": "code",
   "execution_count": 6,
   "metadata": {},
   "outputs": [
    {
     "output_type": "stream",
     "name": "stderr",
     "text": [
      "  0%|          | 0/120 [00:00<?, ?it/s]Integrates 1800 steps until time 180\n",
      "100%|██████████| 120/120 [01:05<00:00,  1.83it/s]\n"
     ]
    },
    {
     "output_type": "stream",
     "text": [
      "Timer unit: 1e-06 s\n",
      "\n",
      "Total time: 57.9665 s\n",
      "File: /home/martin/repos/Exercises_CompPhys/exam/utilities.py\n",
      "Function: SEIIaR_commute at line 49\n",
      "\n",
      "Line #      Hits         Time  Per Hit   % Time  Line Contents\n",
      "==============================================================\n",
      "    49                                           def SEIIaR_commute(x, dt, day, *args):\n",
      "    50      1800      11190.0      6.2      0.0      beta, rs, ra, fs, fa, tE, tI = args\n",
      "    51      1800       2834.0      1.6      0.0      if day:\n",
      "    52       900     948473.0   1053.9      1.6          x0 = np.sum(x, axis=1)\n",
      "    53       900      62268.0     69.2      0.1          N = np.sum(x0, axis=0)\n",
      "    54       900    5014695.0   5571.9      8.7          x0 = np.ones_like(x) * x0[:, np.newaxis, :]\n",
      "    55       900     502743.0    558.6      0.9          N = np.ones_like(x[0]) * N[np.newaxis, :]\n",
      "    56                                           \n",
      "    57                                               else:\n",
      "    58       900     977045.0   1085.6      1.7          x0 = np.sum(x, axis=2)\n",
      "    59       900      64798.0     72.0      0.1          N = np.sum(x0, axis=0)\n",
      "    60       900    5396705.0   5996.3      9.3          x0 = np.ones_like(x) * x0[:, :, np.newaxis]\n",
      "    61       900     501796.0    557.6      0.9          N = np.ones_like(x[0]) * N[:, np.newaxis]\n",
      "    62                                           \n",
      "    63      1800    2463973.0   1368.9      4.3      v = -dt*beta*(rs*x0[2]+ra*x0[3])/N\n",
      "    64      1800    2504183.0   1391.2      4.3      PSE = 1 - np.exp(v)\n",
      "    65      1800      41137.0     22.9      0.1      PEI = fs*(1 - np.exp(-dt/tE))\n",
      "    66      1800       7337.0      4.1      0.0      PEIa = fa*(1 - np.exp(-dt/tE))\n",
      "    67      1800       6080.0      3.4      0.0      PIR = 1 - np.exp(-dt/tI)\n",
      "    68                                           \n",
      "    69      1800     342381.0    190.2      0.6      DSE, DEI, DEIa, DIR, DIaR = np.zeros((5, *x[0].shape), dtype=int)\n",
      "    70      1800    5635343.0   3130.7      9.7      DSE = B(x[0], PSE)\n",
      "    71      3600     258732.0     71.9      0.4      DEI, DEIa, _ = np.moveaxis(\n",
      "    72      1800    6655739.0   3697.6     11.5          M(x[1], (PEI, PEIa, 1-PEI-PEIa)), -1, 0\n",
      "    73                                                   )\n",
      "    74      1800    5141428.0   2856.3      8.9      DIR = B(x[2], PIR)\n",
      "    75      1800    4966301.0   2759.1      8.6      DIaR = B(x[3], PIR)\n",
      "    76                                           \n",
      "    77      1800   16461343.0   9145.2     28.4      return np.array([-DSE, DSE - DEI - DEIa, DEI - DIR, DEIa - DIaR, DIR + DIaR])"
     ],
     "name": "stdout"
    }
   ],
   "source": [
    "lprun -f SEIIaR_commute prof1()"
   ]
  },
  {
   "cell_type": "code",
   "execution_count": 7,
   "metadata": {},
   "outputs": [
    {
     "output_type": "stream",
     "name": "stderr",
     "text": [
      "  0%|          | 0/120 [00:00<?, ?it/s]Integrates 1800 steps until time 180\n",
      "100%|██████████| 120/120 [00:59<00:00,  2.03it/s]\n"
     ]
    },
    {
     "output_type": "stream",
     "text": [
      "Timer unit: 1e-06 s\n",
      "\n",
      "Total time: 52.5217 s\n",
      "File: /home/martin/repos/Exercises_CompPhys/exam/utilities.py\n",
      "Function: SEIIaR_commute2 at line 79\n",
      "\n",
      "Line #      Hits         Time  Per Hit   % Time  Line Contents\n",
      "==============================================================\n",
      "    79                                           def SEIIaR_commute2(x, dt, day, *args):\n",
      "    80      1800      11110.0      6.2      0.0      beta, rs, ra, fs, fa, tE, tI = args\n",
      "    81      1800    2447616.0   1359.8      4.7      nonzero = np.sum(x, axis=0) != 0\n",
      "    82      1800       7457.0      4.1      0.0      if day:\n",
      "    83       900     899030.0    998.9      1.7          x0 = np.sum(x, axis=1)\n",
      "    84       900      63629.0     70.7      0.1          N = np.sum(x0, axis=0)\n",
      "    85       900    4826648.0   5362.9      9.2          x0 = np.ones_like(x) * x0[:, np.newaxis, :]\n",
      "    86       900     499559.0    555.1      1.0          N = np.ones_like(x[0]) * N[np.newaxis, :]\n",
      "    87                                           \n",
      "    88                                               else:\n",
      "    89       900     903233.0   1003.6      1.7          x0 = np.sum(x, axis=2)\n",
      "    90       900      62564.0     69.5      0.1          N = np.sum(x0, axis=0)\n",
      "    91       900    4675357.0   5194.8      8.9          x0 = np.ones_like(x) * x0[:, :, np.newaxis]\n",
      "    92       900     502297.0    558.1      1.0          N = np.ones_like(x[0]) * N[:, np.newaxis]\n",
      "    93                                           \n",
      "    94      1800    2431292.0   1350.7      4.6      v = -dt*beta*(rs*x0[2]+ra*x0[3])/N\n",
      "    95      1800     340667.0    189.3      0.6      PSE = np.zeros_like(x[0])\n",
      "    96      1800    2422951.0   1346.1      4.6      PSE[nonzero] = 1 - np.exp(v[nonzero])\n",
      "    97      1800      44596.0     24.8      0.1      PEI = fs*(1 - np.exp(-dt/tE))\n",
      "    98      1800       7517.0      4.2      0.0      PEIa = fa*(1 - np.exp(-dt/tE))\n",
      "    99      1800       6461.0      3.6      0.0      PIR = 1 - np.exp(-dt/tI)\n",
      "   100                                           \n",
      "   101      1800     310380.0    172.4      0.6      DSE, DEI, DEIa, DIR, DIaR = np.zeros((5, *x[0].shape), dtype=int)\n",
      "   102      1800    5414154.0   3007.9     10.3      DSE[nonzero] = B(x[0, nonzero], PSE[nonzero])\n",
      "   103      3600    3681948.0   1022.8      7.0      DEI[nonzero], DEIa[nonzero], _ = np.moveaxis(\n",
      "   104      1800    2695786.0   1497.7      5.1          M(x[1, nonzero], (PEI, PEIa, 1-PEI-PEIa)), -1, 0\n",
      "   105                                                   )\n",
      "   106      1800    4493733.0   2496.5      8.6      DIR[nonzero] = B(x[2, nonzero], PIR)\n",
      "   107      1800    4274088.0   2374.5      8.1      DIaR[nonzero] = B(x[3, nonzero], PIR)\n",
      "   108                                           \n",
      "   109      1800   11499582.0   6388.7     21.9      return np.array([-DSE, DSE - DEI - DEIa, DEI - DIR, DEIa - DIaR, DIR + DIaR])"
     ],
     "name": "stdout"
    }
   ],
   "source": [
    "lprun -f SEIIaR_commute2 prof2()"
   ]
  }
 ]
}