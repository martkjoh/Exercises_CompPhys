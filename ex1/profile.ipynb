{
 "metadata": {
  "language_info": {
   "codemirror_mode": {
    "name": "ipython",
    "version": 3
   },
   "file_extension": ".py",
   "mimetype": "text/x-python",
   "name": "python",
   "nbconvert_exporter": "python",
   "pygments_lexer": "ipython3",
   "version": "3.8.5"
  },
  "orig_nbformat": 2,
  "kernelspec": {
   "name": "python385jvsc74a57bd031f2aee4e71d21fbe5cf8b01ff0e069b9275f58929596ceb00d14d90e3e16cd6",
   "display_name": "Python 3.8.5 64-bit"
  }
 },
 "nbformat": 4,
 "nbformat_minor": 2,
 "cells": [
  {
   "cell_type": "code",
   "execution_count": 21,
   "metadata": {},
   "outputs": [
    {
     "output_type": "stream",
     "name": "stdout",
     "text": [
      "The line_profiler extension is already loaded. To reload it, use:\n  %reload_ext line_profiler\n"
     ]
    }
   ],
   "source": [
    "from main import profile_run\n",
    "from utillities import check_particle_collisions, execute_collision, run_loop, push_next_collision, push_particle_collision\n",
    "%load_ext line_profiler"
   ]
  },
  {
   "cell_type": "code",
   "execution_count": 22,
   "metadata": {},
   "outputs": [
    {
     "output_type": "stream",
     "name": "stdout",
     "text": [
      "Placing particles\n",
      "Attempting packing with ratio 0.2010619298297468\n",
      "Time placing particles: 0.003473043441772461\n",
      "Finding inital collisions\n",
      "Time elapsed: 12.630603313446045\n"
     ]
    },
    {
     "output_type": "stream",
     "text": [
      "Timer unit: 1e-06 s\n",
      "\n",
      "Total time: 12.6786 s\n",
      "File: /home/martin/repos/Exercises_CompPhys/ex1/main.py\n",
      "Function: profile_run at line 104\n",
      "\n",
      "Line #      Hits         Time  Per Hit   % Time  Line Contents\n",
      "==============================================================\n",
      "   104                                           def profile_run():\n",
      "   105                                               # https://web.archive.org/web/20140513005858im_/http://www.appneta.com/blog/line-profiler-python/\n",
      "   106         1          2.0      2.0      0.0      name = \"profile_run\"\n",
      "   107         1       1237.0   1237.0      0.0      xi, N, T, R, N_save = read_params(para_dir + name)\n",
      "   108         1         47.0     47.0      0.0      radii = np.ones(N) * R\n",
      "   109         1          9.0      9.0      0.0      masses = np.ones(N)\n",
      "   110         1          1.0      1.0      0.0      args = (N, T, radii, masses, xi, N_save)\n",
      "   111         1   12677346.0 12677346.0    100.0      particles, t = run_loop(random_dist, args)"
     ],
     "name": "stdout"
    }
   ],
   "source": [
    "%lprun -f profile_run profile_run()"
   ]
  },
  {
   "cell_type": "code",
   "execution_count": 23,
   "metadata": {},
   "outputs": [
    {
     "output_type": "stream",
     "name": "stdout",
     "text": [
      "Placing particles\n",
      "Attempting packing with ratio 0.2010619298297468\n",
      "Time placing particles: 0.00446319580078125\n",
      "Finding inital collisions\n",
      "Time elapsed: 13.598794221878052\n"
     ]
    },
    {
     "output_type": "stream",
     "text": [
      "Timer unit: 1e-06 s\n",
      "\n",
      "Total time: 12.9398 s\n",
      "File: /home/martin/repos/Exercises_CompPhys/ex1/utillities.py\n",
      "Function: run_loop at line 282\n",
      "\n",
      "Line #      Hits         Time  Per Hit   % Time  Line Contents\n",
      "==============================================================\n",
      "   282                                           def run_loop(init, args, condition=None, TC=False):\n",
      "   283         1          6.0      6.0      0.0      tic = time.time()\n",
      "   284         1     594906.0 594906.0      4.6      system = setup_loop(init, args) # tuple describing the simulated system\n",
      "   285         1          2.0      2.0      0.0      t, particles, collisions, last_collided = system\n",
      "   286         1          1.0      1.0      0.0      N, T, radii, masses, xi, N_save = args\n",
      "   287         1          1.0      1.0      0.0      assert (T-1)%(N_save-1)==0\n",
      "   288         1          1.0      1.0      0.0      skip = (T-1)//(N_save-1)\n",
      "   289                                               \n",
      "   290         1          0.0      0.0      0.0      n = 0 # index for how many collisions have happened\n",
      "   291         1          1.0      1.0      0.0      k = 0 # Index for reading out of particles\n",
      "   292         1          0.0      0.0      0.0      kp1 = 1 # Index for writing to particles, =k or =k+1\n",
      "   293         1         35.0     35.0      0.0      bar = Bar(\"running simulation\", max=T-1)\n",
      "   294         1          3.0      3.0      0.0      check = [(time.time(), len(collisions))]\n",
      "   295                                           \n",
      "   296    121999      87148.0      0.7      0.7      while n < T-1:\n",
      "   297    121998      78976.0      0.6      0.6          t, particles, collisions, last_collided = system\n",
      "   298    121998     713204.0      5.8      5.5          col = heapq.heappop(collisions)\n",
      "   299    121998     109508.0      0.9      0.8          t_next, i, j, t_added, col_type = col\n",
      "   300                                                   \n",
      "   301                                                   # skip invalid collisions\n",
      "   302    243996     196008.0      0.8      1.5          valid_collision = (t_added >= last_collided[i]) \\\n",
      "   303     13064      13010.0      1.0      0.1              and (j==-1 or (t_added >= last_collided[j]))\n",
      "   304                                           \n",
      "   305    121998      76885.0      0.6      0.6          if valid_collision:\n",
      "   306     10000   10783871.0   1078.4     83.3              system = execute_collision(k, kp1, system, args, col, TC)\n",
      "   307                                                       \n",
      "   308     10000      16199.0      1.6      0.1              if (kp1-k)>0 and k!=0:\n",
      "   309                                                           if not(condition is None) and condition(system, args, kp1): break\n",
      "   310                                                           system, check = run_check(system, check, args, kp1)\n",
      "   311                                           \n",
      "   312     10000       9321.0      0.9      0.1              n += 1\n",
      "   313     10000      10479.0      1.0      0.1              k = (skip+n-1) // skip\n",
      "   314     10000       7628.0      0.8      0.1              kp1 = (skip+n) // skip\n",
      "   315     10000     242450.0     24.2      1.9              bar.next()\n",
      "   316                                           \n",
      "   317         1          4.0      4.0      0.0      bar.finish()\n",
      "   318         1        101.0    101.0      0.0      print(\"Time elapsed: {}\".format(time.time() - tic))\n",
      "   319         1          1.0      1.0      0.0      t, particles, collisions, last_collided = system\n",
      "   320         1          2.0      2.0      0.0      return particles[:kp1], t[:kp1]"
     ],
     "name": "stdout"
    }
   ],
   "source": [
    "%lprun -f run_loop profile_run()"
   ]
  },
  {
   "cell_type": "code",
   "execution_count": 24,
   "metadata": {},
   "outputs": [
    {
     "output_type": "stream",
     "name": "stdout",
     "text": [
      "Placing particles\n",
      "Attempting packing with ratio 0.2010619298297468\n",
      "Time placing particles: 0.0022881031036376953\n",
      "Finding inital collisions\n",
      "Time elapsed: 13.9821035861969\n"
     ]
    },
    {
     "output_type": "stream",
     "text": [
      "Timer unit: 1e-06 s\n",
      "\n",
      "Total time: 11.9113 s\n",
      "File: /home/martin/repos/Exercises_CompPhys/ex1/utillities.py\n",
      "Function: execute_collision at line 240\n",
      "\n",
      "Line #      Hits         Time  Per Hit   % Time  Line Contents\n",
      "==============================================================\n",
      "   240                                           def execute_collision(k, kp1, system, args, col, TC):\n",
      "   241                                               # This got out of hand\n",
      "   242     10000       8861.0      0.9      0.1      N, T, radii, masses, xi, N_save = args\n",
      "   243     10000       6362.0      0.6      0.1      t, particles, collisions, last_collided = system\n",
      "   244     10000       6018.0      0.6      0.1      t_next, i, j, t_added, col_type = col\n",
      "   245                                           \n",
      "   246     10000      20613.0      2.1      0.2      particles[kp1] = particles[k]\n",
      "   247     10000      12166.0      1.2      0.1      dt = col[0] - t[k]\n",
      "   248     10000       7988.0      0.8      0.1      t[kp1] = t_next\n",
      "   249                                           \n",
      "   250     10000       5697.0      0.6      0.0      if TC:\n",
      "   251                                                   xi = tc_check(i, k, t, last_collided, xi)\n",
      "   252                                                   if j!=-1: xi = tc_check(j, k, t, last_collided, xi)\n",
      "   253                                           \n",
      "   254     10000     395310.0     39.5      3.3      transelate(particles, kp1, dt)\n",
      "   255     10000     288982.0     28.9      2.4      collide(particles, kp1, i, j, col_type, radii, masses, xi)\n",
      "   256     10000      11559.0      1.2      0.1      last_collided[i] = t[kp1]\n",
      "   257     10000    5760516.0    576.1     48.4      push_next_collision(particles, kp1, i, t[kp1], collisions, radii)\n",
      "   258     10000      12962.0      1.3      0.1      if j !=-1: \n",
      "   259      9420      10903.0      1.2      0.1          last_collided[j] = t[kp1]\n",
      "   260      9420    5350744.0    568.0     44.9          push_next_collision(particles, kp1, j, t[kp1], collisions, radii)\n",
      "   261                                           \n",
      "   262     10000      12621.0      1.3      0.1      return t, particles, collisions, last_collided"
     ],
     "name": "stdout"
    }
   ],
   "source": [
    "%lprun -f execute_collision profile_run()"
   ]
  },
  {
   "cell_type": "code",
   "execution_count": 25,
   "metadata": {},
   "outputs": [
    {
     "output_type": "stream",
     "name": "stdout",
     "text": [
      "Placing particles\n",
      "Attempting packing with ratio 0.2010619298297468\n",
      "Time placing particles: 0.0043184757232666016\n",
      "Finding inital collisions\n",
      "Time elapsed: 18.602810621261597\n"
     ]
    },
    {
     "output_type": "stream",
     "text": [
      "Timer unit: 1e-06 s\n",
      "\n",
      "Total time: 15.7887 s\n",
      "File: /home/martin/repos/Exercises_CompPhys/ex1/utillities.py\n",
      "Function: push_next_collision at line 36\n",
      "\n",
      "Line #      Hits         Time  Per Hit   % Time  Line Contents\n",
      "==============================================================\n",
      "    36                                           def push_next_collision(particles, n, i, t, collisions, radii):\n",
      "    37     20411     291629.0     14.3      1.8      push_wall_collision(particles, i, n, t, collisions, radii)\n",
      "    38     20411   15497032.0    759.2     98.2      push_particle_collision(particles, n, i, t, collisions, radii)"
     ],
     "name": "stdout"
    }
   ],
   "source": [
    "%lprun -f push_next_collision profile_run()"
   ]
  },
  {
   "cell_type": "code",
   "execution_count": 26,
   "metadata": {},
   "outputs": [
    {
     "output_type": "stream",
     "name": "stdout",
     "text": [
      "Placing particles\n",
      "Attempting packing with ratio 0.2010619298297468\n",
      "Time placing particles: 0.005018472671508789\n",
      "Finding inital collisions\n",
      "Time elapsed: 63.46592473983765\n"
     ]
    },
    {
     "output_type": "stream",
     "text": [
      "Timer unit: 1e-06 s\n",
      "\n",
      "Total time: 36.0073 s\n",
      "File: /home/martin/repos/Exercises_CompPhys/ex1/utillities.py\n",
      "Function: push_particle_collision at line 27\n",
      "\n",
      "Line #      Hits         Time  Per Hit   % Time  Line Contents\n",
      "==============================================================\n",
      "    27                                           def push_particle_collision(particles, n, i, t, collisions, radii):\n",
      "    28     20380    7031153.0    345.0     19.5      dts, cond = check_particle_collisions(particles, n, i, radii)\n",
      "    29  20380000   14621119.0      0.7     40.6      for j, a in enumerate(cond):\n",
      "    30  20359620   13163745.0      0.6     36.6          if a:\n",
      "    31    300740     193767.0      0.6      0.5              j_true = j\n",
      "    32    300740     244562.0      0.8      0.7              if j >= i: j_true += 1\n",
      "    33    300740     752953.0      2.5      2.1              heapq.heappush(collisions, (t+dts[j], i, j_true, t, \"particle\"))"
     ],
     "name": "stdout"
    }
   ],
   "source": [
    "%lprun -f push_particle_collision profile_run()"
   ]
  },
  {
   "cell_type": "code",
   "execution_count": 27,
   "metadata": {},
   "outputs": [
    {
     "output_type": "stream",
     "name": "stdout",
     "text": [
      "Placing particles\n",
      "Attempting packing with ratio 0.2010619298297468\n",
      "Time placing particles: 0.004217624664306641\n",
      "Finding inital collisions\n",
      "Time elapsed: 24.001851558685303\n"
     ]
    },
    {
     "output_type": "stream",
     "text": [
      "Timer unit: 1e-06 s\n",
      "\n",
      "Total time: 7.29177 s\n",
      "File: /home/martin/repos/Exercises_CompPhys/ex1/utillities.py\n",
      "Function: check_particle_collisions at line 113\n",
      "\n",
      "Line #      Hits         Time  Per Hit   % Time  Line Contents\n",
      "==============================================================\n",
      "   113                                           def check_particle_collisions(particles, n, i, radii):\n",
      "   114     20390      42807.0      2.1      0.6      N = len(radii)\n",
      "   115     20390     275958.0     13.5      3.8      mask = np.arange(N) != i # remove the particle we are checking against\n",
      "   116     20390     905041.0     44.4     12.4      one = np.ones_like(particles[n, mask, 0])\n",
      "   117     20390     198869.0      9.8      2.7      one_v = np.array([one, one]).T\n",
      "   118     20390     343725.0     16.9      4.7      R = radii[i] * one + radii[mask]\n",
      "   119     20390    1247795.0     61.2     17.1      dx = particles[n, mask, :2] - particles[n, i, :2] * one_v\n",
      "   120     20390    1144160.0     56.1     15.7      dv = particles[n, mask, 2:] - particles[n, i, 2:] * one_v\n",
      "   121     20390     759203.0     37.2     10.4      dvdx = np.einsum(\"ij -> i\", dv*dx)\n",
      "   122     20390     598908.0     29.4      8.2      dxdx = np.einsum(\"ij -> i\", dx**2)\n",
      "   123     20390     548443.0     26.9      7.5      dvdv = np.einsum(\"ij -> i\", dv**2)\n",
      "   124     20390     331486.0     16.3      4.5      d = dvdx**2 - dvdv * (dxdx - R**2)\n",
      "   125     20390     135962.0      6.7      1.9      cond1 = d <= 0\n",
      "   126     20390      98300.0      4.8      1.3      cond2 = dvdx >= 0\n",
      "   127     20390     114495.0      5.6      1.6      cond = np.logical_not(np.logical_or(cond1, cond2))\n",
      "   128     20390     110263.0      5.4      1.5      dt = one * np.inf\n",
      "   129     20390     411999.0     20.2      5.7      dt[cond] = - (dvdx[cond] + np.sqrt(d[cond])) / dvdv[cond]\n",
      "   130     20390      24353.0      1.2      0.3      return dt, cond"
     ],
     "name": "stdout"
    }
   ],
   "source": [
    "%lprun -f check_particle_collisions profile_run()"
   ]
  }
 ]
}