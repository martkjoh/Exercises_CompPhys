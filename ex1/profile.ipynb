{
 "metadata": {
  "language_info": {
   "codemirror_mode": {
    "name": "ipython",
    "version": 3
   },
   "file_extension": ".py",
   "mimetype": "text/x-python",
   "name": "python",
   "nbconvert_exporter": "python",
   "pygments_lexer": "ipython3",
   "version": "3.9.1-final"
  },
  "orig_nbformat": 2,
  "kernelspec": {
   "name": "python38664bitb4df3fc486b545038be32c2c0a9bfd81",
   "display_name": "Python 3.8.6 64-bit",
   "language": "python"
  }
 },
 "nbformat": 4,
 "nbformat_minor": 2,
 "cells": [
  {
   "cell_type": "code",
   "execution_count": 1,
   "metadata": {},
   "outputs": [],
   "source": [
    "from main import profile_run, run_loop\n",
    "%load_ext line_profiler"
   ]
  },
  {
   "cell_type": "code",
   "execution_count": 2,
   "metadata": {},
   "outputs": [
    {
     "output_type": "stream",
     "text": [
      "Timer unit: 1e-06 s\n",
      "\n",
      "Total time: 0.395954 s\n",
      "File: /home/martin/envy/CompPhys/Exercises_CompPhys/ex1/main.py\n",
      "Function: run_loop at line 14\n",
      "\n",
      "Line #      Hits         Time  Per Hit   % Time  Line Contents\n",
      "==============================================================\n",
      "    14                                           def run_loop(init, N, T, radii, masses, xi, xi_p):\n",
      "    15         1         22.0     22.0      0.0      particles = np.empty((T+1, N, 4))\n",
      "    16         1      29113.0  29113.0      7.4      particles[0] = init(N, radii)\n",
      "    17         1     182306.0 182306.0     46.0      collisions, col_lst = init_collisions(particles, radii)\n",
      "    18                                               # When has particle i last collided? Used to remove invalid collisions\n",
      "    19         1         30.0     30.0      0.0      last_collided = -np.ones(N)\n",
      "    20                                           \n",
      "    21         1          3.0      3.0      0.0      t = np.zeros(T+1)\n",
      "    22         1          0.0      0.0      0.0      n = 0\n",
      "    23         1         36.0     36.0      0.0      bar = Bar(\"running simulation\", max=T)\n",
      "    24       152        112.0      0.7      0.0      while n < T:\n",
      "    25       151        930.0      6.2      0.2          t_next, colNr = heapq.heappop(collisions)\n",
      "    26       151        182.0      1.2      0.0          i, j, t_added, collision_type = col_lst[int(colNr)]\n",
      "    27       151        124.0      0.8      0.0          i = int(i); j = int(j) # must be floats for numba\n",
      "    28                                                   \n",
      "    29                                                   # Skip invalid collisions\n",
      "    30       302        267.0      0.9      0.1          valid_collision = (t_added >= last_collided[i]) \\\n",
      "    31       105         88.0      0.8      0.0              and (j==-1 or (t_added >= last_collided[j]))\n",
      "    32                                           \n",
      "    33       151         85.0      0.6      0.0          if valid_collision:\n",
      "    34       100        434.0      4.3      0.1              particles[n+1] = particles[n]\n",
      "    35       100        110.0      1.1      0.0              dt = t_next - t[n]\n",
      "    36       100         77.0      0.8      0.0              t[n+1] = t_next\n",
      "    37                                           \n",
      "    38       100       1617.0     16.2      0.4              transelate(particles, n+1, dt)\n",
      "    39       100       1526.0     15.3      0.4              collide(particles, n+1, i, j, collision_type, radii, masses, xi, xi_p)\n",
      "    40                                           \n",
      "    41       100        121.0      1.2      0.0              last_collided[i] = t[n+1]\n",
      "    42       100     141271.0   1412.7     35.7              push_next_collision(particles, n+1, i, t[n+1], collisions, col_lst, radii)\n",
      "    43       100        110.0      1.1      0.0              if j !=-1: \n",
      "    44        25         35.0      1.4      0.0                  last_collided[j] = t[n+1]\n",
      "    45        25      35118.0   1404.7      8.9                  push_next_collision(particles, n+1, j, t[n+1], collisions, col_lst, radii)\n",
      "    46                                           \n",
      "    47       100         75.0      0.8      0.0              n += 1\n",
      "    48       100       2158.0     21.6      0.5              bar.next()\n",
      "    49                                                   \n",
      "    50         1          3.0      3.0      0.0      bar.finish()\n",
      "    51         1          1.0      1.0      0.0      return particles, t"
     ],
     "name": "stdout"
    }
   ],
   "source": [
    "%lprun -f run_loop profile_run()"
   ]
  }
 ]
}