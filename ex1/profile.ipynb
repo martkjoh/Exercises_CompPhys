{
 "metadata": {
  "language_info": {
   "codemirror_mode": {
    "name": "ipython",
    "version": 3
   },
   "file_extension": ".py",
   "mimetype": "text/x-python",
   "name": "python",
   "nbconvert_exporter": "python",
   "pygments_lexer": "ipython3",
   "version": "3.8.5-final"
  },
  "orig_nbformat": 2,
  "kernelspec": {
   "name": "python38564bit3931715d8eef4b53802a78250b9b28cf",
   "display_name": "Python 3.8.5 64-bit",
   "language": "python"
  }
 },
 "nbformat": 4,
 "nbformat_minor": 2,
 "cells": [
  {
   "cell_type": "code",
   "execution_count": 1,
   "metadata": {},
   "outputs": [],
   "source": [
    "from main import profile_run\n",
    "from utillities import check_particle_collisions, execute_collision, run_loop, push_next_collision\n",
    "%load_ext line_profiler"
   ]
  },
  {
   "cell_type": "code",
   "execution_count": 2,
   "metadata": {},
   "outputs": [
    {
     "output_type": "stream",
     "name": "stdout",
     "text": [
      "Placing particles\n",
      "Finding inital collisions\n",
      "Time elapsed: 24.103073120117188\n"
     ]
    },
    {
     "output_type": "stream",
     "text": [
      "Timer unit: 1e-06 s\n",
      "\n",
      "Total time: 24.1964 s\n",
      "File: /home/martin/repos/Exercises_CompPhys/ex1/main.py\n",
      "Function: profile_run at line 77\n",
      "\n",
      "Line #      Hits         Time  Per Hit   % Time  Line Contents\n",
      "==============================================================\n",
      "    77                                           def profile_run():\n",
      "    78                                               # https://web.archive.org/web/20140513005858im_/http://www.appneta.com/blog/line-profiler-python/\n",
      "    79         1          3.0      3.0      0.0      name = \"profile_run\"\n",
      "    80         1       2996.0   2996.0      0.0      xi, N, T, R = read_params(para_dir + name)\n",
      "    81         1         84.0     84.0      0.0      radii = np.ones(N) * R\n",
      "    82         1         14.0     14.0      0.0      masses = np.ones(N)\n",
      "    83         1          1.0      1.0      0.0      args = (N, T, radii, masses, xi)\n",
      "    84         1   24193313.0 24193313.0    100.0      particles, t = run_loop(random_dist, args)"
     ],
     "name": "stdout"
    }
   ],
   "source": [
    "%lprun -f profile_run profile_run()"
   ]
  },
  {
   "cell_type": "code",
   "execution_count": 3,
   "metadata": {},
   "outputs": [
    {
     "output_type": "stream",
     "name": "stdout",
     "text": [
      "Placing particles\n",
      "Finding inital collisions\n",
      "Time elapsed: 20.89854335784912\n"
     ]
    },
    {
     "output_type": "stream",
     "text": [
      "Timer unit: 1e-06 s\n",
      "\n",
      "Total time: 20.3847 s\n",
      "File: /home/martin/repos/Exercises_CompPhys/ex1/utillities.py\n",
      "Function: run_loop at line 270\n",
      "\n",
      "Line #      Hits         Time  Per Hit   % Time  Line Contents\n",
      "==============================================================\n",
      "   270                                           def run_loop(init, args, condition=None, n_check=np.inf, TC=False):\n",
      "   271         1         11.0     11.0      0.0      tic = time.time()\n",
      "   272         1    3590863.0 3590863.0     17.6      t, particles, collisions, last_collided = setup_loop(init, args)\n",
      "   273         1          2.0      2.0      0.0      N, T, radii, masses, xi = args\n",
      "   274                                           \n",
      "   275         1          1.0      1.0      0.0      n = 0\n",
      "   276         1         76.0     76.0      0.0      bar = Bar(\"running simulation\", max=T)\n",
      "   277    118019      75576.0      0.6      0.4      while n < T:\n",
      "   278    118018    1236453.0     10.5      6.1          col = get_next_col(collisions)\n",
      "   279    118018     128279.0      1.1      0.6          t_next, i, j, t_added, col_type  = col\n",
      "   280                                                   \n",
      "   281                                                   # Skip invalid collisions\n",
      "   282    236036     198844.0      0.8      1.0          valid_collision = (t_added >= last_collided[i]) \\\n",
      "   283     13120      15455.0      1.2      0.1              and (j==-1 or (t_added >= last_collided[j]))\n",
      "   284                                           \n",
      "   285    118018      72743.0      0.6      0.4          if valid_collision:\n",
      "   286     10000      23142.0      2.3      0.1              n, t, particles, collisions, last_collided = \\\n",
      "   287     10000   14635006.0   1463.5     71.8                  execute_collision(n, t, particles, collisions, last_collided, args, col, TC)\n",
      "   288                                           \n",
      "   289     10000      23613.0      2.4      0.1              if n%n_check==0: \n",
      "   290                                                           if condition(particles, args, n): break\n",
      "   291                                           \n",
      "   292     10000     384148.0     38.4      1.9              bar.next()\n",
      "   293                                           \n",
      "   294         1          4.0      4.0      0.0      bar.finish()\n",
      "   295         1        503.0    503.0      0.0      print(\"Time elapsed: {}\".format(time.time() - tic))\n",
      "   296         1          2.0      2.0      0.0      return particles[:n+1], t[:n+1]"
     ],
     "name": "stdout"
    }
   ],
   "source": [
    "%lprun -f run_loop profile_run()"
   ]
  },
  {
   "cell_type": "code",
   "execution_count": 4,
   "metadata": {},
   "outputs": [
    {
     "output_type": "stream",
     "name": "stdout",
     "text": [
      "Placing particles\n",
      "Finding inital collisions\n",
      "Time elapsed: 21.47944951057434\n"
     ]
    },
    {
     "output_type": "stream",
     "text": [
      "Timer unit: 1e-06 s\n",
      "\n",
      "Total time: 15.6422 s\n",
      "File: /home/martin/repos/Exercises_CompPhys/ex1/utillities.py\n",
      "Function: execute_collision at line 247\n",
      "\n",
      "Line #      Hits         Time  Per Hit   % Time  Line Contents\n",
      "==============================================================\n",
      "   247                                           def execute_collision(n, t, particles, collisions, last_collided, args, col, TC):\n",
      "   248     10000       9473.0      0.9      0.1      N, T, radii, masses, xi = args\n",
      "   249     10000       6851.0      0.7      0.0      t_next, i, j, t_added, col_type  = col\n",
      "   250     10000     238131.0     23.8      1.5      particles[n+1] = particles[n]\n",
      "   251     10000      16266.0      1.6      0.1      dt = col[0] - t[n]\n",
      "   252     10000      10300.0      1.0      0.1      t[n+1] = t_next\n",
      "   253                                           \n",
      "   254     10000       6091.0      0.6      0.0      if TC:\n",
      "   255                                                   xi = tc_check(i, n, t, last_collided, xi)\n",
      "   256                                                   if j!=-1: xi = tc_check(j, n, t, last_collided, xi)\n",
      "   257                                           \n",
      "   258     10000     448664.0     44.9      2.9      transelate(particles, n+1, dt)\n",
      "   259     10000     374200.0     37.4      2.4      collide(particles, n+1, i, j, col_type, radii, masses, xi)\n",
      "   260     10000      14163.0      1.4      0.1      last_collided[i] = t[n+1]\n",
      "   261     10000    7551132.0    755.1     48.3      push_next_collision(particles, n+1, i, t[n+1], collisions, radii)\n",
      "   262     10000      17327.0      1.7      0.1      if j !=-1: \n",
      "   263      9374      13569.0      1.4      0.1          last_collided[j] = t[n+1]\n",
      "   264      9374    6913089.0    737.5     44.2          push_next_collision(particles, n+1, j, t[n+1], collisions, radii)\n",
      "   265                                           \n",
      "   266     10000      15246.0      1.5      0.1      n += 1\n",
      "   267     10000       7669.0      0.8      0.0      return n, t, particles, collisions, last_collided"
     ],
     "name": "stdout"
    }
   ],
   "source": [
    "%lprun -f execute_collision profile_run()"
   ]
  },
  {
   "cell_type": "code",
   "execution_count": 5,
   "metadata": {},
   "outputs": [
    {
     "output_type": "stream",
     "name": "stdout",
     "text": [
      "Placing particles\n",
      "Finding inital collisions\n",
      "Time elapsed: 55.10578274726868\n"
     ]
    },
    {
     "output_type": "stream",
     "text": [
      "Timer unit: 1e-06 s\n",
      "\n",
      "Total time: 27.3163 s\n",
      "File: /home/martin/repos/Exercises_CompPhys/ex1/utillities.py\n",
      "Function: push_next_collision at line 31\n",
      "\n",
      "Line #      Hits         Time  Per Hit   % Time  Line Contents\n",
      "==============================================================\n",
      "    31                                           def push_next_collision(particles, n, i, t, collisions, radii):\n",
      "    32     19409     127953.0      6.6      0.5      wall0 = check_wall_collison(particles[n, i, 0], particles[n, i, 2], radii[i])\n",
      "    33     19409      65562.0      3.4      0.2      wall1 = check_wall_collison(particles[n, i, 1], particles[n, i, 3], radii[i])\n",
      "    34     19409      39978.0      2.1      0.1      if wall0 != np.inf: heapq.heappush(collisions, (t+wall0, i, -1, t, \"wall0\"))\n",
      "    35     19409      31211.0      1.6      0.1      if wall1 != np.inf: heapq.heappush(collisions, (t+wall1, i, -1, t, \"wall1\"))\n",
      "    36     19409    4903724.0    252.7     18.0      dts, cond = check_particle_collisions(particles, n, i, radii)\n",
      "    37  19409000   11030395.0      0.6     40.4      for j, a in enumerate(cond):\n",
      "    38  19389591   10173929.0      0.5     37.2          if a:\n",
      "    39    286016     144356.0      0.5      0.5              j_true = j\n",
      "    40    286016     181478.0      0.6      0.7              if j >= i: j_true += 1\n",
      "    41    286016     617738.0      2.2      2.3              heapq.heappush(collisions, (t+dts[j], i, j_true, t, \"particle\"))"
     ],
     "name": "stdout"
    }
   ],
   "source": [
    "%lprun -f push_next_collision profile_run()"
   ]
  },
  {
   "cell_type": "code",
   "execution_count": 6,
   "metadata": {},
   "outputs": [
    {
     "output_type": "stream",
     "name": "stdout",
     "text": [
      "Placing particles\n",
      "Finding inital collisions\n",
      "Time elapsed: 20.99497961997986\n"
     ]
    },
    {
     "output_type": "stream",
     "text": [
      "Timer unit: 1e-06 s\n",
      "\n",
      "Total time: 4.59823 s\n",
      "File: /home/martin/repos/Exercises_CompPhys/ex1/utillities.py\n",
      "Function: check_particle_collisions at line 134\n",
      "\n",
      "Line #      Hits         Time  Per Hit   % Time  Line Contents\n",
      "==============================================================\n",
      "   134                                           def check_particle_collisions(particles, n, i, radii):\n",
      "   135     20379      26447.0      1.3      0.6      N = len(radii)\n",
      "   136     20379     165690.0      8.1      3.6      mask = np.arange(N) != i # remove the particle we are checking against\n",
      "   137     20379     574244.0     28.2     12.5      one = np.ones_like(particles[n, mask, 0])\n",
      "   138     20379     124540.0      6.1      2.7      one_v = np.array([one, one]).T\n",
      "   139     20379     214158.0     10.5      4.7      R = radii[i] * one + radii[mask]\n",
      "   140     20379     784156.0     38.5     17.1      dx = particles[n, mask, :2] - particles[n, i, :2] * one_v\n",
      "   141     20379     721300.0     35.4     15.7      dv = particles[n, mask, 2:] - particles[n, i, 2:] * one_v\n",
      "   142     20379     473721.0     23.2     10.3      dvdx = np.einsum(\"ij -> i\", dv*dx)\n",
      "   143     20379     375902.0     18.4      8.2      dxdx = np.einsum(\"ij -> i\", dx**2)\n",
      "   144     20379     345024.0     16.9      7.5      dvdv = np.einsum(\"ij -> i\", dv**2)\n",
      "   145     20379     205465.0     10.1      4.5      d = dvdx**2 - dvdv * (dxdx - R**2)\n",
      "   146     20379      84707.0      4.2      1.8      cond1 = d <= 0\n",
      "   147     20379      61775.0      3.0      1.3      cond2 = dvdx >= 0\n",
      "   148     20379      69227.0      3.4      1.5      cond = np.logical_not(np.logical_or(cond1, cond2))\n",
      "   149     20379      69987.0      3.4      1.5      dt = one * np.inf\n",
      "   150     20379     286677.0     14.1      6.2      dt[cond] = - (dvdx[cond] + np.sqrt(d[cond])) / dvdv[cond]\n",
      "   151     20379      15211.0      0.7      0.3      return dt, cond"
     ],
     "name": "stdout"
    }
   ],
   "source": [
    "%lprun -f check_particle_collisions profile_run()"
   ]
  }
 ]
}