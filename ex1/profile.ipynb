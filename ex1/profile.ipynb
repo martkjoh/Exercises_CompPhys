{
 "metadata": {
  "language_info": {
   "codemirror_mode": {
    "name": "ipython",
    "version": 3
   },
   "file_extension": ".py",
   "mimetype": "text/x-python",
   "name": "python",
   "nbconvert_exporter": "python",
   "pygments_lexer": "ipython3",
   "version": "3.8.5-final"
  },
  "orig_nbformat": 2,
  "kernelspec": {
   "name": "python38564bit3931715d8eef4b53802a78250b9b28cf",
   "display_name": "Python 3.8.5 64-bit",
   "language": "python"
  }
 },
 "nbformat": 4,
 "nbformat_minor": 2,
 "cells": [
  {
   "cell_type": "code",
   "execution_count": 3,
   "metadata": {},
   "outputs": [
    {
     "output_type": "stream",
     "name": "stdout",
     "text": [
      "The line_profiler extension is already loaded. To reload it, use:\n  %reload_ext line_profiler\n"
     ]
    }
   ],
   "source": [
    "from main import profile_run\n",
    "from utillities import check_particle_collisions, execute_collision, run_loop, push_next_collision\n",
    "%load_ext line_profiler"
   ]
  },
  {
   "cell_type": "code",
   "execution_count": 13,
   "metadata": {},
   "outputs": [
    {
     "output_type": "stream",
     "name": "stdout",
     "text": [
      "Placing particles\n",
      "Finding inital collisions\n",
      "Time elapsed: 25.213149785995483\n"
     ]
    },
    {
     "output_type": "stream",
     "text": [
      "Timer unit: 1e-06 s\n",
      "\n",
      "Total time: 25.3 s\n",
      "File: /home/martin/repos/Exercises_CompPhys/ex1/main.py\n",
      "Function: profile_run at line 78\n",
      "\n",
      "Line #      Hits         Time  Per Hit   % Time  Line Contents\n",
      "==============================================================\n",
      "    78                                           def profile_run():\n",
      "    79                                               # https://web.archive.org/web/20140513005858im_/http://www.appneta.com/blog/line-profiler-python/\n",
      "    80         1          3.0      3.0      0.0      name = \"profile_run\"\n",
      "    81         1       3963.0   3963.0      0.0      xi, N, T, R = read_params(para_dir + name)\n",
      "    82         1        154.0    154.0      0.0      radii = np.ones(N) * R\n",
      "    83         1         12.0     12.0      0.0      masses = np.ones(N)\n",
      "    84         1          1.0      1.0      0.0      args = (N, T, radii, masses, xi)\n",
      "    85         1   25295889.0 25295889.0    100.0      particles, t = run_loop(random_dist, args)"
     ],
     "name": "stdout"
    }
   ],
   "source": [
    "%lprun -f profile_run profile_run()"
   ]
  },
  {
   "cell_type": "code",
   "execution_count": 2,
   "metadata": {},
   "outputs": [
    {
     "output_type": "stream",
     "name": "stdout",
     "text": [
      "Placing particles\n",
      "Finding inital collisions\n",
      "Time elapsed: 26.3678081035614\n"
     ]
    },
    {
     "output_type": "stream",
     "text": [
      "Timer unit: 1e-06 s\n",
      "\n",
      "Total time: 25.6797 s\n",
      "File: /home/martin/repos/Exercises_CompPhys/ex1/utillities.py\n",
      "Function: run_loop at line 270\n",
      "\n",
      "Line #      Hits         Time  Per Hit   % Time  Line Contents\n",
      "==============================================================\n",
      "   270                                           def run_loop(init, args, condition=None, n_check=np.inf, TC=False):\n",
      "   271         1          8.0      8.0      0.0      tic = time.time()\n",
      "   272         1    3697117.0 3697117.0     14.4      t, particles, collisions, last_collided = setup_loop(init, args)\n",
      "   273         1          2.0      2.0      0.0      N, T, radii, masses, xi = args\n",
      "   274                                           \n",
      "   275         1          1.0      1.0      0.0      n = 0\n",
      "   276         1       2611.0   2611.0      0.0      bar = Bar(\"running simulation\", max=T)\n",
      "   277    119482     103664.0      0.9      0.4      while n < T:\n",
      "   278    119481    1519303.0     12.7      5.9          col = get_next_col(collisions)\n",
      "   279    119481     164876.0      1.4      0.6          t_next, i, j, t_added, col_type  = col\n",
      "   280                                                   \n",
      "   281                                                   # Skip invalid collisions\n",
      "   282    238962     263766.0      1.1      1.0          valid_collision = (t_added >= last_collided[i]) \\\n",
      "   283     13029      18524.0      1.4      0.1              and (j==-1 or (t_added >= last_collided[j]))\n",
      "   284                                           \n",
      "   285    119481      98481.0      0.8      0.4          if valid_collision:\n",
      "   286     10000      35376.0      3.5      0.1              n, t, particles, collisions, last_collided = \\\n",
      "   287     10000   19156095.0   1915.6     74.6                  execute_collision(n, t, particles, collisions, last_collided, args, col, TC)\n",
      "   288                                           \n",
      "   289     10000      37174.0      3.7      0.1              if n%n_check==0: \n",
      "   290                                                           if condition(particles, args, n): break\n",
      "   291                                           \n",
      "   292     10000     578563.0     57.9      2.3              bar.next()\n",
      "   293                                           \n",
      "   294         1         10.0     10.0      0.0      bar.finish()\n",
      "   295         1       4108.0   4108.0      0.0      print(\"Time elapsed: {}\".format(time.time() - tic))\n",
      "   296         1          9.0      9.0      0.0      return particles[:n+1], t[:n+1]"
     ],
     "name": "stdout"
    }
   ],
   "source": [
    "%lprun -f run_loop profile_run()"
   ]
  },
  {
   "cell_type": "code",
   "execution_count": 4,
   "metadata": {},
   "outputs": [
    {
     "output_type": "stream",
     "name": "stdout",
     "text": [
      "Placing particles\n",
      "Finding inital collisions\n",
      "Time elapsed: 25.861071586608887\n"
     ]
    },
    {
     "output_type": "stream",
     "text": [
      "Timer unit: 1e-06 s\n",
      "\n",
      "Total time: 19.2635 s\n",
      "File: /home/martin/repos/Exercises_CompPhys/ex1/utillities.py\n",
      "Function: execute_collision at line 247\n",
      "\n",
      "Line #      Hits         Time  Per Hit   % Time  Line Contents\n",
      "==============================================================\n",
      "   247                                           def execute_collision(n, t, particles, collisions, last_collided, args, col, TC):\n",
      "   248     10000      12497.0      1.2      0.1      N, T, radii, masses, xi = args\n",
      "   249     10000       7925.0      0.8      0.0      t_next, i, j, t_added, col_type  = col\n",
      "   250     10000     524013.0     52.4      2.7      particles[n+1] = particles[n]\n",
      "   251     10000      20883.0      2.1      0.1      dt = col[0] - t[n]\n",
      "   252     10000      12913.0      1.3      0.1      t[n+1] = t_next\n",
      "   253                                           \n",
      "   254     10000       6936.0      0.7      0.0      if TC:\n",
      "   255                                                   xi = tc_check(i, n, t, last_collided, xi)\n",
      "   256                                                   if j!=-1: xi = tc_check(j, n, t, last_collided, xi)\n",
      "   257                                           \n",
      "   258     10000     566205.0     56.6      2.9      transelate(particles, n+1, dt)\n",
      "   259     10000     465682.0     46.6      2.4      collide(particles, n+1, i, j, col_type, radii, masses, xi)\n",
      "   260     10000      16989.0      1.7      0.1      last_collided[i] = t[n+1]\n",
      "   261     10000    9078273.0    907.8     47.1      push_next_collision(particles, n+1, i, t[n+1], collisions, radii)\n",
      "   262     10000      22370.0      2.2      0.1      if j !=-1: \n",
      "   263      9406      17962.0      1.9      0.1          last_collided[j] = t[n+1]\n",
      "   264      9406    8480120.0    901.6     44.0          push_next_collision(particles, n+1, j, t[n+1], collisions, radii)\n",
      "   265                                           \n",
      "   266     10000      20806.0      2.1      0.1      n += 1\n",
      "   267     10000       9974.0      1.0      0.1      return n, t, particles, collisions, last_collided"
     ],
     "name": "stdout"
    }
   ],
   "source": [
    "%lprun -f execute_collision profile_run()"
   ]
  },
  {
   "cell_type": "code",
   "execution_count": 5,
   "metadata": {},
   "outputs": [
    {
     "output_type": "stream",
     "name": "stdout",
     "text": [
      "Placing particles\n",
      "Finding inital collisions\n",
      "Time elapsed: 65.78413438796997\n"
     ]
    },
    {
     "output_type": "stream",
     "text": [
      "Timer unit: 1e-06 s\n",
      "\n",
      "Total time: 33.1343 s\n",
      "File: /home/martin/repos/Exercises_CompPhys/ex1/utillities.py\n",
      "Function: push_next_collision at line 31\n",
      "\n",
      "Line #      Hits         Time  Per Hit   % Time  Line Contents\n",
      "==============================================================\n",
      "    31                                           def push_next_collision(particles, n, i, t, collisions, radii):\n",
      "    32     19448     175008.0      9.0      0.5      wall0 = check_wall_collison(particles[n, i, 0], particles[n, i, 2], radii[i])\n",
      "    33     19448      79865.0      4.1      0.2      wall1 = check_wall_collison(particles[n, i, 1], particles[n, i, 3], radii[i])\n",
      "    34     19448      51332.0      2.6      0.2      if wall0 != np.inf: heapq.heappush(collisions, (t+wall0, i, -1, t, \"wall0\"))\n",
      "    35     19448      38218.0      2.0      0.1      if wall1 != np.inf: heapq.heappush(collisions, (t+wall1, i, -1, t, \"wall1\"))\n",
      "    36     19448    6150890.0    316.3     18.6      dts, cond = check_particle_collisions(particles, n, i, radii)\n",
      "    37  19448000   13259390.0      0.7     40.0      for j, a in enumerate(cond):\n",
      "    38  19428552   12225255.0      0.6     36.9          if a:\n",
      "    39    290119     174264.0      0.6      0.5              j_true = j\n",
      "    40    290119     222235.0      0.8      0.7              if j >= i: j_true += 1\n",
      "    41    290119     757855.0      2.6      2.3              heapq.heappush(collisions, (t+dts[j], i, j_true, t, \"particle\"))"
     ],
     "name": "stdout"
    }
   ],
   "source": [
    "%lprun -f push_next_collision profile_run()"
   ]
  }
 ]
}