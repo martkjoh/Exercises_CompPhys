{
 "metadata": {
  "language_info": {
   "codemirror_mode": {
    "name": "ipython",
    "version": 3
   },
   "file_extension": ".py",
   "mimetype": "text/x-python",
   "name": "python",
   "nbconvert_exporter": "python",
   "pygments_lexer": "ipython3",
   "version": "3.9.1-final"
  },
  "orig_nbformat": 2,
  "kernelspec": {
   "name": "python38664bitb4df3fc486b545038be32c2c0a9bfd81",
   "display_name": "Python 3.8.6 64-bit",
   "language": "python"
  }
 },
 "nbformat": 4,
 "nbformat_minor": 2,
 "cells": [
  {
   "cell_type": "code",
   "execution_count": 4,
   "metadata": {},
   "outputs": [
    {
     "output_type": "stream",
     "name": "stdout",
     "text": [
      "The line_profiler extension is already loaded. To reload it, use:\n  %reload_ext line_profiler\n"
     ]
    },
    {
     "output_type": "stream",
     "text": [
      "Timer unit: 1e-06 s\n",
      "\n",
      "Total time: 14.1945 s\n",
      "File: /home/martin/envy/CompPhys/Exercises_CompPhys/ex1/main.py\n",
      "Function: run_loop at line 17\n",
      "\n",
      "Line #      Hits         Time  Per Hit   % Time  Line Contents\n",
      "==============================================================\n",
      "    17                                           def run_loop(init, N, T, radii, masses, xi, xi_p):\n",
      "    18         1        176.0    176.0      0.0      particles = np.empty((T+1, N, 4))\n",
      "    19         1     454579.0 454579.0      3.2      particles[0] = init(N, radii)\n",
      "    20         1    3042024.0 3042024.0     21.4      collisions = init_collisions(particles, radii)\n",
      "    21                                               # When has particle i last collided? Used to remove invalid collisions\n",
      "    22         1         36.0     36.0      0.0      last_collided = -np.ones(N)\n",
      "    23                                           \n",
      "    24         1          7.0      7.0      0.0      t = np.zeros(T+1)\n",
      "    25         1          0.0      0.0      0.0      n = 0\n",
      "    26         1       3333.0   3333.0      0.0      bar = Bar(\"running simulation\", max=T)\n",
      "    27      3106       1937.0      0.6      0.0      while n < T:\n",
      "    28      3105      31090.0     10.0      0.2          next_coll = heapq.heappop(collisions)\n",
      "    29      3105       3380.0      1.1      0.0          t_next, i, j, t_added, collision_type = next_coll\n",
      "    30                                                   \n",
      "    31                                                   # Skip invalid collisions\n",
      "    32      6210       5412.0      0.9      0.0          valid_collision = (t_added >= last_collided[i]) \\\n",
      "    33      1346       1272.0      0.9      0.0              and (j==-1 or (t_added >= last_collided[j]))\n",
      "    34                                           \n",
      "    35      3105       1689.0      0.5      0.0          if valid_collision:\n",
      "    36      1000      30109.0     30.1      0.2              particles[n+1] = particles[n]\n",
      "    37      1000       1378.0      1.4      0.0              dt = t_next - t[n]\n",
      "    38      1000        966.0      1.0      0.0              t[n+1] = t_next\n",
      "    39                                           \n",
      "    40      1000      29268.0     29.3      0.2              transelate(particles, n+1, dt)\n",
      "    41      1000      24499.0     24.5      0.2              collide(particles, n+1, i, j, collision_type, radii, masses, xi, xi_p)\n",
      "    42                                           \n",
      "    43      1000       1219.0      1.2      0.0              last_collided[i] = t[n+1]\n",
      "    44      1000    6267900.0   6267.9     44.2              push_next_collision(particles, n+1, i, t[n+1], collisions, radii)\n",
      "    45      1000       1738.0      1.7      0.0              if j !=-1: \n",
      "    46       679       1200.0      1.8      0.0                  last_collided[j] = t[n+1]\n",
      "    47       679    4252071.0   6262.3     30.0                  push_next_collision(particles, n+1, j, t[n+1], collisions, radii)\n",
      "    48                                           \n",
      "    49      1000       1512.0      1.5      0.0              n += 1\n",
      "    50      1000      37686.0     37.7      0.3              bar.next()\n",
      "    51                                                   \n",
      "    52         1          3.0      3.0      0.0      bar.finish()\n",
      "    53         1          1.0      1.0      0.0      return particles, t"
     ],
     "name": "stdout"
    }
   ],
   "source": [
    "from main import profile_run, run_loop\n",
    "%re line_profiler\n",
    "\n",
    "%lprun -f run_loop profile_run()"
   ]
  },
  {
   "cell_type": "code",
   "execution_count": null,
   "metadata": {},
   "outputs": [],
   "source": [
    "%lprun -f run_loop profile_run()"
   ]
  }
 ]
}