{
 "metadata": {
  "language_info": {
   "codemirror_mode": {
    "name": "ipython",
    "version": 3
   },
   "file_extension": ".py",
   "mimetype": "text/x-python",
   "name": "python",
   "nbconvert_exporter": "python",
   "pygments_lexer": "ipython3",
   "version": "3.9.1-final"
  },
  "orig_nbformat": 2,
  "kernelspec": {
   "name": "python38664bitb4df3fc486b545038be32c2c0a9bfd81",
   "display_name": "Python 3.8.6 64-bit",
   "language": "python"
  }
 },
 "nbformat": 4,
 "nbformat_minor": 2,
 "cells": [
  {
   "cell_type": "code",
   "execution_count": null,
   "metadata": {},
   "outputs": [],
   "source": [
    "import numpy as np\n",
    "from numba import njit\n",
    "from numba.typed import List\n",
    "import heapq\n",
    "import time\n",
    "from tqdm.notebook import tqdm, trange"
   ]
  },
  {
   "cell_type": "code",
   "execution_count": null,
   "metadata": {},
   "outputs": [],
   "source": [
    "def non_jit(N):\n",
    "    heap = [[0, 0], ]\n",
    "    heapq.heapify(heap)\n",
    "    for n in trange(N):\n",
    "        heapq.heappush(heap, [n, n**2])\n",
    "        if n%2==0:\n",
    "            heapq.heappop(heap)"
   ]
  },
  {
   "cell_type": "code",
   "execution_count": null,
   "metadata": {},
   "outputs": [],
   "source": [
    "@njit\n",
    "def with_jit(N):\n",
    "    heap = [[0., 0.], ]\n",
    "    heapq.heapify(heap)\n",
    "    for n in range(N):\n",
    "        heapq.heappush(heap, [float(n), float(n)**2])\n",
    "        if n%2==0:\n",
    "            heapq.heappop(heap)"
   ]
  },
  {
   "cell_type": "code",
   "execution_count": null,
   "metadata": {},
   "outputs": [],
   "source": [
    "def time_func(func):\n",
    "    Ns = [100, 1_000, 10_000, 100_000, 1_000_000]\n",
    "    ts = []\n",
    "    for N in Ns:\n",
    "        t = time.time()\n",
    "        func(N)\n",
    "        ts.append(time.time() - t)\n",
    "    print(ts)"
   ]
  },
  {
   "cell_type": "code",
   "execution_count": null,
   "metadata": {},
   "outputs": [],
   "source": [
    "time_func(non_jit)"
   ]
  },
  {
   "cell_type": "code",
   "execution_count": null,
   "metadata": {},
   "outputs": [],
   "source": [
    "time_func(with_jit)"
   ]
  }
 ]
}