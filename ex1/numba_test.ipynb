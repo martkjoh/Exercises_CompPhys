{
 "metadata": {
  "language_info": {
   "codemirror_mode": {
    "name": "ipython",
    "version": 3
   },
   "file_extension": ".py",
   "mimetype": "text/x-python",
   "name": "python",
   "nbconvert_exporter": "python",
   "pygments_lexer": "ipython3",
   "version": "3.9.1-final"
  },
  "orig_nbformat": 2,
  "kernelspec": {
   "name": "python38664bitb4df3fc486b545038be32c2c0a9bfd81",
   "display_name": "Python 3.8.6 64-bit",
   "language": "python"
  }
 },
 "nbformat": 4,
 "nbformat_minor": 2,
 "cells": [
  {
   "cell_type": "code",
   "execution_count": 13,
   "metadata": {},
   "outputs": [],
   "source": [
    "import numpy as np\n",
    "from numba import njit\n",
    "from numba.typed import List\n",
    "import heapq\n",
    "import time\n",
    "from tqdm.notebook import tqdm, trange"
   ]
  },
  {
   "cell_type": "code",
   "execution_count": 48,
   "metadata": {},
   "outputs": [],
   "source": [
    "def non_jit(N):\n",
    "    heap = [[0, 0], ]\n",
    "    heapq.heapify(heap)\n",
    "    for n in trange(N):\n",
    "        heapq.heappush(heap, [n, n**2])\n",
    "        if n%2==0:\n",
    "            heapq.heappop(heap)"
   ]
  },
  {
   "cell_type": "code",
   "execution_count": 47,
   "metadata": {},
   "outputs": [],
   "source": [
    "@njit\n",
    "def with_jit(N):\n",
    "    heap = [[0., 0.], ]\n",
    "    heapq.heapify(heap)\n",
    "    for n in range(N):\n",
    "        heapq.heappush(heap, [float(n), float(n)**2])\n",
    "        if n%2==0:\n",
    "            heapq.heappop(heap)"
   ]
  },
  {
   "cell_type": "code",
   "execution_count": 42,
   "metadata": {},
   "outputs": [],
   "source": [
    "def time_func(func):\n",
    "    Ns = [100, 1_000, 10_000, 100_000, 1_000_000]\n",
    "    ts = []\n",
    "    for N in Ns:\n",
    "        t = time.time()\n",
    "        func(N)\n",
    "        ts.append(time.time() - t)\n",
    "    print(ts)"
   ]
  },
  {
   "cell_type": "code",
   "execution_count": 49,
   "metadata": {},
   "outputs": [
    {
     "output_type": "display_data",
     "data": {
      "text/plain": "  0%|          | 0/100 [00:00<?, ?it/s]",
      "application/vnd.jupyter.widget-view+json": {
       "version_major": 2,
       "version_minor": 0,
       "model_id": "6357b01b2d3e41bd913e93a1e6a5a2ff"
      }
     },
     "metadata": {}
    },
    {
     "output_type": "display_data",
     "data": {
      "text/plain": "  0%|          | 0/1000 [00:00<?, ?it/s]",
      "application/vnd.jupyter.widget-view+json": {
       "version_major": 2,
       "version_minor": 0,
       "model_id": "5d0e3a7870f248e6b78a5a3a328ea27d"
      }
     },
     "metadata": {}
    },
    {
     "output_type": "display_data",
     "data": {
      "text/plain": "  0%|          | 0/10000 [00:00<?, ?it/s]",
      "application/vnd.jupyter.widget-view+json": {
       "version_major": 2,
       "version_minor": 0,
       "model_id": "2118dc3da3a0484ead0b1446838f191a"
      }
     },
     "metadata": {}
    },
    {
     "output_type": "display_data",
     "data": {
      "text/plain": "  0%|          | 0/100000 [00:00<?, ?it/s]",
      "application/vnd.jupyter.widget-view+json": {
       "version_major": 2,
       "version_minor": 0,
       "model_id": "85b37fe24a8247dfaf2075017e047995"
      }
     },
     "metadata": {}
    },
    {
     "output_type": "display_data",
     "data": {
      "text/plain": "  0%|          | 0/1000000 [00:00<?, ?it/s]",
      "application/vnd.jupyter.widget-view+json": {
       "version_major": 2,
       "version_minor": 0,
       "model_id": "0964b239114e436bac4ff8e5e98b0a70"
      }
     },
     "metadata": {}
    },
    {
     "output_type": "stream",
     "name": "stdout",
     "text": [
      "[0.03206920623779297, 0.03176307678222656, 0.045729637145996094, 0.3442039489746094, 2.4755916595458984]\n"
     ]
    }
   ],
   "source": [
    "time_func(non_jit)"
   ]
  },
  {
   "cell_type": "code",
   "execution_count": 51,
   "metadata": {},
   "outputs": [
    {
     "output_type": "stream",
     "name": "stdout",
     "text": [
      "[8.845329284667969e-05, 0.0009832382202148438, 0.010970354080200195, 0.12818694114685059, 1.4810428619384766]\n"
     ]
    }
   ],
   "source": [
    "time_func(with_jit)"
   ]
  }
 ]
}