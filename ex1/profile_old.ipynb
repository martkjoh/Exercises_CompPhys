{
 "metadata": {
  "language_info": {
   "codemirror_mode": {
    "name": "ipython",
    "version": 3
   },
   "file_extension": ".py",
   "mimetype": "text/x-python",
   "name": "python",
   "nbconvert_exporter": "python",
   "pygments_lexer": "ipython3",
   "version": "3.8.5-final"
  },
  "orig_nbformat": 2,
  "kernelspec": {
   "name": "python38564bit3931715d8eef4b53802a78250b9b28cf",
   "display_name": "Python 3.8.5 64-bit",
   "language": "python"
  }
 },
 "nbformat": 4,
 "nbformat_minor": 2,
 "cells": [
  {
   "cell_type": "code",
   "execution_count": 3,
   "metadata": {},
   "outputs": [],
   "source": [
    "from main import profile_run\n",
    "from utillities import check_particle_collision, execute_collision, run_loop, push_next_collision\n",
    "%load_ext line_profiler"
   ]
  },
  {
   "cell_type": "code",
   "execution_count": 4,
   "metadata": {},
   "outputs": [
    {
     "output_type": "stream",
     "name": "stdout",
     "text": [
      "Placing particles\n",
      "Finding inital collisions\n",
      "Time elapsed: 241.02854561805725\n"
     ]
    },
    {
     "output_type": "stream",
     "text": [
      "Timer unit: 1e-06 s\n",
      "\n",
      "Total time: 241.134 s\n",
      "File: /home/martin/repos/test/Exercises_CompPhys/ex1/main.py\n",
      "Function: profile_run at line 76\n",
      "\n",
      "Line #      Hits         Time  Per Hit   % Time  Line Contents\n",
      "==============================================================\n",
      "    76                                           def profile_run():\n",
      "    77                                               # https://web.archive.org/web/20140513005858im_/http://www.appneta.com/blog/line-profiler-python/\n",
      "    78         1          2.0      2.0      0.0      name = \"profile_run\"\n",
      "    79         1       3803.0   3803.0      0.0      xi, N, T, R = read_params(para_dir + name)\n",
      "    80         1        159.0    159.0      0.0      radii = np.ones(N) * R\n",
      "    81         1         10.0     10.0      0.0      masses = np.ones(N)\n",
      "    82         1          1.0      1.0      0.0      args = (N, T, radii, masses, xi)\n",
      "    83         1  241130314.0 241130314.0    100.0      particles, t = run_loop(random_dist, args)"
     ],
     "name": "stdout"
    }
   ],
   "source": [
    "%lprun -f profile_run profile_run()"
   ]
  },
  {
   "cell_type": "code",
   "execution_count": 5,
   "metadata": {},
   "outputs": [
    {
     "output_type": "stream",
     "name": "stdout",
     "text": [
      "Placing particles\n",
      "Finding inital collisions\n",
      "Time elapsed: 279.77443742752075\n"
     ]
    },
    {
     "output_type": "stream",
     "text": [
      "Timer unit: 1e-06 s\n",
      "\n",
      "Total time: 279.195 s\n",
      "File: /home/martin/repos/test/Exercises_CompPhys/ex1/utillities.py\n",
      "Function: run_loop at line 228\n",
      "\n",
      "Line #      Hits         Time  Per Hit   % Time  Line Contents\n",
      "==============================================================\n",
      "   228                                           def run_loop(init, args, condition=None, n_check=np.inf, TC=False):\n",
      "   229         1         10.0     10.0      0.0      tic = time.time()\n",
      "   230         1   17329310.0 17329310.0      6.2      t, particles, collisions, last_collided = setup_loop(init, args)\n",
      "   231         1          2.0      2.0      0.0      N, T, radii, masses, xi = args\n",
      "   232                                           \n",
      "   233         1          1.0      1.0      0.0      n = 0\n",
      "   234         1         73.0     73.0      0.0      bar = Bar(\"running simulation\", max=T)\n",
      "   235    118081      88047.0      0.7      0.0      while n < T:\n",
      "   236    118080    1679596.0     14.2      0.6          col = get_next_col(collisions)\n",
      "   237    118080     154122.0      1.3      0.1          t_next, i, j, t_added, col_type  = col\n",
      "   238                                                   \n",
      "   239                                                   # Skip invalid collisions\n",
      "   240    236160     238578.0      1.0      0.1          valid_collision = (t_added >= last_collided[i]) \\\n",
      "   241     13031      15969.0      1.2      0.0              and (j==-1 or (t_added >= last_collided[j]))\n",
      "   242                                           \n",
      "   243    118080      81898.0      0.7      0.0          if valid_collision:\n",
      "   244     10000      55992.0      5.6      0.0              n, t, particles, collisions, last_collided = \\\n",
      "   245     10000  258591487.0  25859.1     92.6                  execute_collision(n, t, particles, collisions, last_collided, args, col, TC)\n",
      "   246                                           \n",
      "   247     10000      45687.0      4.6      0.0              if n%n_check==0: \n",
      "   248                                                           if condition(particles, args, n): break\n",
      "   249                                           \n",
      "   250     10000     863475.0     86.3      0.3              bar.next()\n",
      "   251                                           \n",
      "   252         1          5.0      5.0      0.0      bar.finish()\n",
      "   253         1      50402.0  50402.0      0.0      print(\"Time elapsed: {}\".format(time.time() - tic))\n",
      "   254         1        150.0    150.0      0.0      return particles[:n+1], t[:n+1]"
     ],
     "name": "stdout"
    }
   ],
   "source": [
    "%lprun -f run_loop profile_run()"
   ]
  },
  {
   "cell_type": "code",
   "execution_count": 6,
   "metadata": {},
   "outputs": [
    {
     "output_type": "stream",
     "name": "stdout",
     "text": [
      "Placing particles\n",
      "Finding inital collisions\n",
      "Time elapsed: 306.6140718460083\n"
     ]
    },
    {
     "output_type": "stream",
     "text": [
      "Timer unit: 1e-06 s\n",
      "\n",
      "Total time: 287.49 s\n",
      "File: /home/martin/repos/test/Exercises_CompPhys/ex1/utillities.py\n",
      "Function: execute_collision at line 205\n",
      "\n",
      "Line #      Hits         Time  Per Hit   % Time  Line Contents\n",
      "==============================================================\n",
      "   205                                           def execute_collision(n, t, particles, collisions, last_collided, args, col, TC):\n",
      "   206     10000      13325.0      1.3      0.0      N, T, radii, masses, xi = args\n",
      "   207     10000       7364.0      0.7      0.0      t_next, i, j, t_added, col_type  = col\n",
      "   208     10000     726089.0     72.6      0.3      particles[n+1] = particles[n]\n",
      "   209     10000      25166.0      2.5      0.0      dt = col[0] - t[n]\n",
      "   210     10000      12377.0      1.2      0.0      t[n+1] = t_next\n",
      "   211                                           \n",
      "   212     10000       6668.0      0.7      0.0      if TC:\n",
      "   213                                                   xi = tc_check(i, n, t, last_collided, xi)\n",
      "   214                                                   if j!=-1: xi = tc_check(j, n, t, last_collided, xi)\n",
      "   215                                           \n",
      "   216     10000     729553.0     73.0      0.3      transelate(particles, n+1, dt)\n",
      "   217     10000     418366.0     41.8      0.1      collide(particles, n+1, i, j, col_type, radii, masses, xi)\n",
      "   218     10000      16224.0      1.6      0.0      last_collided[i] = t[n+1]\n",
      "   219     10000  147653506.0  14765.4     51.4      push_next_collision(particles, n+1, i, t[n+1], collisions, radii)\n",
      "   220     10000      49874.0      5.0      0.0      if j !=-1: \n",
      "   221      9379      32281.0      3.4      0.0          last_collided[j] = t[n+1]\n",
      "   222      9379  137728996.0  14684.8     47.9          push_next_collision(particles, n+1, j, t[n+1], collisions, radii)\n",
      "   223                                           \n",
      "   224     10000      51567.0      5.2      0.0      n += 1\n",
      "   225     10000      18683.0      1.9      0.0      return n, t, particles, collisions, last_collided"
     ],
     "name": "stdout"
    }
   ],
   "source": [
    "%lprun -f execute_collision profile_run()"
   ]
  },
  {
   "cell_type": "code",
   "execution_count": 7,
   "metadata": {},
   "outputs": [
    {
     "output_type": "stream",
     "name": "stdout",
     "text": [
      "Placing particles\n",
      "Finding inital collisions\n",
      "Time elapsed: 364.6188898086548\n"
     ]
    },
    {
     "output_type": "stream",
     "text": [
      "Timer unit: 1e-06 s\n",
      "\n",
      "Total time: 321.276 s\n",
      "File: /home/martin/repos/test/Exercises_CompPhys/ex1/utillities.py\n",
      "Function: push_next_collision at line 23\n",
      "\n",
      "Line #      Hits         Time  Per Hit   % Time  Line Contents\n",
      "==============================================================\n",
      "    23                                           def push_next_collision(particles, n, i, t, collisions, radii):\n",
      "    24     20425     140770.0      6.9      0.0      wall0 = check_wall_collison(particles[n, i, 0], particles[n, i, 2], radii[i])\n",
      "    25     20425      77511.0      3.8      0.0      wall1 = check_wall_collison(particles[n, i, 1], particles[n, i, 3], radii[i])\n",
      "    26     20425      89938.0      4.4      0.0      if wall0 != np.inf: heapq.heappush(collisions, (t+wall0, i, -1, t, \"wall0\"))\n",
      "    27     20425      50118.0      2.5      0.0      if wall1 != np.inf: heapq.heappush(collisions, (t+wall1, i, -1, t, \"wall1\"))\n",
      "    28  20445425   11610429.0      0.6      3.6      for j in range(len(particles[0])):\n",
      "    29  20425000  290921397.0     14.2     90.6          dt = check_particle_collision(particles, n, i, j, radii)\n",
      "    30  20425000   18385444.0      0.9      5.7          if dt != np.inf: heapq.heappush(collisions, (t+dt, i, j, t, \"particle\"))"
     ],
     "name": "stdout"
    }
   ],
   "source": [
    "%lprun -f push_next_collision profile_run()"
   ]
  },
  {
   "cell_type": "code",
   "execution_count": 8,
   "metadata": {},
   "outputs": [
    {
     "output_type": "stream",
     "name": "stdout",
     "text": [
      "Placing particles\n",
      "Finding inital collisions\n",
      "Time elapsed: 375.2568097114563\n"
     ]
    },
    {
     "output_type": "stream",
     "text": [
      "Timer unit: 1e-06 s\n",
      "\n",
      "Total time: 290.441 s\n",
      "File: /home/martin/repos/test/Exercises_CompPhys/ex1/utillities.py\n",
      "Function: check_particle_collision at line 104\n",
      "\n",
      "Line #      Hits         Time  Per Hit   % Time  Line Contents\n",
      "==============================================================\n",
      "   104                                           def check_particle_collision(particles, n, i, j, radii):\n",
      "   105  20394000   20972894.0      1.0      7.2      R = radii[i] + radii[j]\n",
      "   106  20394000   51333507.0      2.5     17.7      dx = particles[n, j, :2] - particles[n, i, :2]\n",
      "   107  20394000   48744419.0      2.4     16.8      dv = particles[n, j, 2:] - particles[n, i, 2:]\n",
      "   108  20394000  143744104.0      7.0     49.5      d = (dv @ dx)**2 - (dv @ dv) * ((dx @ dx) - R**2)\n",
      "   109  20394000   22797522.0      1.1      7.8      if (d <= 0 or dv @ dx >= 0): return np.inf\n",
      "   110    306955    2849047.0      9.3      1.0      else: return - (dv @ dx + np.sqrt(d)) / (dv @ dv)"
     ],
     "name": "stdout"
    }
   ],
   "source": [
    "%lprun -f check_particle_collision profile_run()"
   ]
  }
 ]
}